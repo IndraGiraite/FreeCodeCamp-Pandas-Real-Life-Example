{
  "cells": [
    {
      "cell_type": "markdown",
      "metadata": {
        "id": "5_S21z7Ibayc"
      },
      "source": [
        "# 01.06 Jupyter Exercises 2\n",
        "\n",
        "Exercises rating:\n",
        "\n",
        "★☆☆ - You should be able to do it based on Python knowledge plus the text.\n",
        "\n",
        "★★☆ - You will need to do extra thinking and some extra reading/searching.\n",
        "\n",
        "★★★ - The answer is difficult to find by a simple search,\n",
        "      requires you to do a considerable amount of extra work by yourself\n",
        "      (feel free to ignore these exercises if you're short on time)."
      ]
    },
    {
      "cell_type": "markdown",
      "metadata": {
        "id": "W5_Fml0wbayg"
      },
      "source": [
        "Note: Some of the exercises in this section are way beyond what we cover.\n",
        "Instead, the exercises are a review of your general python programming knowledge.\n",
        "You can safely ignore these exercises, they are not necessary for what we learn later."
      ]
    },
    {
      "cell_type": "markdown",
      "metadata": {
        "id": "U6wJbbaBbayg"
      },
      "source": [
        "#### 1. Write a Python class that is instantiated with a list of numbers and has a **`.mean()`** method. (★☆☆)"
      ]
    },
    {
      "cell_type": "code",
      "execution_count": 6,
      "metadata": {
        "id": "tpd3lB84bayh",
        "outputId": "7150d225-0bb9-4add-fc30-216ecac2418a",
        "colab": {
          "base_uri": "https://localhost:8080/"
        }
      },
      "outputs": [
        {
          "output_type": "stream",
          "name": "stdout",
          "text": [
            "3.0\n"
          ]
        }
      ],
      "source": [
        "class NumberList:\n",
        "    def __init__(self, numbers):\n",
        "        self.numbers = numbers\n",
        "\n",
        "    def mean(self):\n",
        "        if not self.numbers:\n",
        "            return None\n",
        "        return sum(self.numbers) / len(self.numbers)\n",
        "numbers = [1, 2, 3, 4, 5]\n",
        "num_list = NumberList(numbers)\n",
        "print(num_list.mean())  # Output: 3.0\n"
      ]
    },
    {
      "cell_type": "markdown",
      "metadata": {
        "id": "00PDm7-ybayh"
      },
      "source": [
        "#### 2. Save the following into a file called **`by_zero.py`**. (★★☆)\n",
        "\n",
        "---\n",
        "\n",
        "    def div_xy(x, y):\n",
        "        return x / y\n",
        "\n",
        "    def div_by_zero(x):\n",
        "        return div_xy(x, 0.0)\n",
        "\n",
        "---\n",
        "\n",
        "**`import`** the module and execute the **`div_xy`** function to divide 10 by 2.\n",
        "\n",
        "P.S. You do not need to worry about an **`__init__.py`** file if the module is in the same directory."
      ]
    },
    {
      "cell_type": "code",
      "execution_count": 7,
      "metadata": {
        "id": "pPOfmVC2bayi",
        "outputId": "c451e94e-c10a-413f-fd04-f0f123ceee92",
        "colab": {
          "base_uri": "https://localhost:8080/",
          "height": 373
        }
      },
      "outputs": [
        {
          "output_type": "error",
          "ename": "ModuleNotFoundError",
          "evalue": "ignored",
          "traceback": [
            "\u001b[0;31m---------------------------------------------------------------------------\u001b[0m",
            "\u001b[0;31mModuleNotFoundError\u001b[0m                       Traceback (most recent call last)",
            "\u001b[0;32m<ipython-input-7-e683b6a272a9>\u001b[0m in \u001b[0;36m<cell line: 1>\u001b[0;34m()\u001b[0m\n\u001b[0;32m----> 1\u001b[0;31m \u001b[0;32mimport\u001b[0m \u001b[0mby_zero\u001b[0m\u001b[0;34m\u001b[0m\u001b[0;34m\u001b[0m\u001b[0m\n\u001b[0m\u001b[1;32m      2\u001b[0m \u001b[0;34m\u001b[0m\u001b[0m\n\u001b[1;32m      3\u001b[0m \u001b[0mresult\u001b[0m \u001b[0;34m=\u001b[0m \u001b[0mby_zero\u001b[0m\u001b[0;34m.\u001b[0m\u001b[0mdiv_xy\u001b[0m\u001b[0;34m(\u001b[0m\u001b[0;36m10\u001b[0m\u001b[0;34m,\u001b[0m \u001b[0;36m2\u001b[0m\u001b[0;34m)\u001b[0m\u001b[0;34m\u001b[0m\u001b[0;34m\u001b[0m\u001b[0m\n\u001b[1;32m      4\u001b[0m \u001b[0mprint\u001b[0m\u001b[0;34m(\u001b[0m\u001b[0mresult\u001b[0m\u001b[0;34m)\u001b[0m  \u001b[0;31m# Output: 5.0\u001b[0m\u001b[0;34m\u001b[0m\u001b[0;34m\u001b[0m\u001b[0m\n\u001b[1;32m      5\u001b[0m \u001b[0;34m\u001b[0m\u001b[0m\n",
            "\u001b[0;31mModuleNotFoundError\u001b[0m: No module named 'by_zero'",
            "",
            "\u001b[0;31m---------------------------------------------------------------------------\u001b[0;32m\nNOTE: If your import is failing due to a missing package, you can\nmanually install dependencies using either !pip or !apt.\n\nTo view examples of installing some common dependencies, click the\n\"Open Examples\" button below.\n\u001b[0;31m---------------------------------------------------------------------------\u001b[0m\n"
          ],
          "errorDetails": {
            "actions": [
              {
                "action": "open_url",
                "actionText": "Open Examples",
                "url": "/notebooks/snippets/importing_libraries.ipynb"
              }
            ]
          }
        }
      ],
      "source": [
        "import by_zero\n",
        "\n",
        "result = by_zero.div_xy(10, 2)\n",
        "print(result)  # Output: 5.0\n",
        "\n",
        "result = by_zero.div_by_zero(10)\n",
        "print(result)  # This will raise a ZeroDivisionError"
      ]
    },
    {
      "cell_type": "code",
      "execution_count": null,
      "metadata": {
        "id": "kZPyg-1pbayi"
      },
      "outputs": [],
      "source": []
    },
    {
      "cell_type": "markdown",
      "metadata": {
        "id": "c5nZNLyfbayi"
      },
      "source": [
        "#### 3. What is the difference between the *magic* in the following cells? (★★☆)\n",
        "\n",
        "Try to explain the differences between what you see."
      ]
    },
    {
      "cell_type": "code",
      "execution_count": 9,
      "metadata": {
        "id": "-G6WpFeybayj",
        "outputId": "4a0e60b3-1472-4db6-99c4-d02737c9d4f3",
        "colab": {
          "base_uri": "https://localhost:8080/",
          "height": 183
        }
      },
      "outputs": [
        {
          "output_type": "stream",
          "name": "stdout",
          "text": [
            "Exception reporting mode: Plain\n"
          ]
        },
        {
          "output_type": "error",
          "ename": "NameError",
          "evalue": "ignored",
          "traceback": [
            "Traceback \u001b[0;36m(most recent call last)\u001b[0m:\n",
            "\u001b[0;36m  File \u001b[0;32m\"<ipython-input-9-ff9e1c043829>\"\u001b[0;36m, line \u001b[0;32m3\u001b[0;36m, in \u001b[0;35m<cell line: 3>\u001b[0;36m\u001b[0m\n\u001b[0;31m    by_zero.div_by_zero(3)\u001b[0m\n",
            "\u001b[0;31mNameError\u001b[0m\u001b[0;31m:\u001b[0m name 'by_zero' is not defined\n"
          ]
        }
      ],
      "source": [
        "%xmode Plain\n",
        "\n",
        "by_zero.div_by_zero(3)"
      ]
    },
    {
      "cell_type": "code",
      "execution_count": null,
      "metadata": {
        "id": "-92in_Dnbayk"
      },
      "outputs": [],
      "source": [
        "%xmode Context\n",
        "\n",
        "by_zero.div_by_zero(3)"
      ]
    },
    {
      "cell_type": "code",
      "execution_count": null,
      "metadata": {
        "id": "ELdM_mLEbayk"
      },
      "outputs": [],
      "source": [
        "%xmode Verbose\n",
        "\n",
        "by_zero.div_by_zero(3)"
      ]
    },
    {
      "cell_type": "markdown",
      "metadata": {
        "id": "-ibiDvJxbayl"
      },
      "source": [
        "#### 4. Use `%pdb on` to print out the value of `y` (inside `div_xy`) just before the division by zero. (★★★)"
      ]
    },
    {
      "cell_type": "code",
      "execution_count": null,
      "metadata": {
        "id": "NTZ_Hlh3bayl"
      },
      "outputs": [],
      "source": [
        "import by_zero\n",
        "by_zero.div_by_zero(3)"
      ]
    },
    {
      "cell_type": "markdown",
      "metadata": {
        "id": "-9dUxngMbayl"
      },
      "source": [
        "#### 5. Use `%timeit` to time a function that sums the elements of a list, compare it with `np.sum` (★★☆)\n",
        "\n",
        "You can use **`np.arange(1024)`** to create a list of the first 1024 integers.\n",
        "Here is a start (this exercise ought to take a while to run):"
      ]
    },
    {
      "cell_type": "code",
      "execution_count": null,
      "metadata": {
        "id": "Mct6oPoWbayl"
      },
      "outputs": [],
      "source": [
        "def sums_all(l):\n",
        "    pass"
      ]
    },
    {
      "cell_type": "code",
      "execution_count": null,
      "metadata": {
        "id": "pX9CVtJhbaym"
      },
      "outputs": [],
      "source": [
        "import numpy as np\n",
        "long_list = np.arange(1024)\n",
        "%timeit np.sum(long_list)\n",
        "%timeit # your function"
      ]
    },
    {
      "cell_type": "markdown",
      "metadata": {
        "id": "giZRd35jbaym"
      },
      "source": [
        "#### 6. Use `%prun` to profile the function you wrote in exercise 5. (★★★)"
      ]
    },
    {
      "cell_type": "code",
      "execution_count": 10,
      "metadata": {
        "id": "ek0v1Mtfbaym"
      },
      "outputs": [],
      "source": [
        "import numpy as np\n",
        "long_list = np.arange(32256)"
      ]
    }
  ],
  "metadata": {
    "kernelspec": {
      "display_name": "Python 3",
      "language": "python",
      "name": "python3"
    },
    "language_info": {
      "codemirror_mode": {
        "name": "ipython",
        "version": 3
      },
      "file_extension": ".py",
      "mimetype": "text/x-python",
      "name": "python",
      "nbconvert_exporter": "python",
      "pygments_lexer": "ipython3",
      "version": "3.7.6"
    },
    "colab": {
      "provenance": []
    }
  },
  "nbformat": 4,
  "nbformat_minor": 0
}